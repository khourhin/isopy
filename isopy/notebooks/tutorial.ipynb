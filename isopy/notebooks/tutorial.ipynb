{
 "cells": [
  {
   "cell_type": "code",
   "execution_count": 1,
   "metadata": {
    "Collapsed": "false"
   },
   "outputs": [],
   "source": [
    "import isopy.isopy as iso"
   ]
  },
  {
   "cell_type": "code",
   "execution_count": 2,
   "metadata": {
    "Collapsed": "false"
   },
   "outputs": [],
   "source": [
    "%load_ext autoreload\n",
    "%autoreload 2"
   ]
  },
  {
   "cell_type": "markdown",
   "metadata": {
    "Collapsed": "false"
   },
   "source": [
    "# Input"
   ]
  },
  {
   "cell_type": "code",
   "execution_count": 3,
   "metadata": {
    "Collapsed": "false"
   },
   "outputs": [],
   "source": [
    "# Input\n",
    "EXONS_COMPO_CSV = \"../../tests/test_isopy/mock_exon_composition.csv\"\n",
    "EXONS_FAS = \"../../tests/test_isopy/mock_exons.fas\"\n",
    "GENOME_REF = \"../../tests/test_isopy/mock_genome.fas\"\n",
    "READS_1 = \"../../tests/test_isopy/mock_multi_fasta_1.fas\"\n",
    "READS_2 = \"../../tests/test_isopy/mock_multi_fasta_2.fas\""
   ]
  },
  {
   "cell_type": "code",
   "execution_count": 4,
   "metadata": {
    "Collapsed": "false"
   },
   "outputs": [
    {
     "name": "stderr",
     "output_type": "stream",
     "text": [
      "DEBUG:root:Minimap2 START\n",
      "DEBUG:root:Minimap2 DONE\n",
      "DEBUG:root:Minimap2 START\n",
      "DEBUG:root:Minimap2 DONE\n",
      "DEBUG:root:Samtools merge START\n",
      "DEBUG:root:Samtools merge DONE\n",
      "DEBUG:root:Raw exon extraction START\n",
      "DEBUG:root:Raw exon extraction DONE\n",
      "DEBUG:root:Filter exons by canonical splice sites START\n",
      "DEBUG:root:Filter exons by canonical splice sites DONE\n",
      "DEBUG:root:Filter exons by read support START\n",
      "DEBUG:root:Filter exons by read support DONE\n"
     ]
    }
   ],
   "source": [
    "exons = iso.ExonIdentifier([READS_1, READS_2], GENOME_REF)"
   ]
  },
  {
   "cell_type": "code",
   "execution_count": 5,
   "metadata": {
    "Collapsed": "false"
   },
   "outputs": [
    {
     "data": {
      "text/html": [
       "<div>\n",
       "<style scoped>\n",
       "    .dataframe tbody tr th:only-of-type {\n",
       "        vertical-align: middle;\n",
       "    }\n",
       "\n",
       "    .dataframe tbody tr th {\n",
       "        vertical-align: top;\n",
       "    }\n",
       "\n",
       "    .dataframe thead th {\n",
       "        text-align: right;\n",
       "    }\n",
       "</style>\n",
       "<table border=\"1\" class=\"dataframe\">\n",
       "  <thead>\n",
       "    <tr style=\"text-align: right;\">\n",
       "      <th></th>\n",
       "      <th>chrom</th>\n",
       "      <th>start</th>\n",
       "      <th>end</th>\n",
       "      <th>frequency</th>\n",
       "      <th>sequence</th>\n",
       "      <th>splice_sites</th>\n",
       "    </tr>\n",
       "  </thead>\n",
       "  <tbody>\n",
       "    <tr>\n",
       "      <th>0</th>\n",
       "      <td>GPHN</td>\n",
       "      <td>399</td>\n",
       "      <td>463</td>\n",
       "      <td>5</td>\n",
       "      <td>ATGGCGACCGAGGGAATGATCCTCACCAACCACGACCATCAAATCC...</td>\n",
       "      <td>(AC, GT)</td>\n",
       "    </tr>\n",
       "    <tr>\n",
       "      <th>1</th>\n",
       "      <td>GPHN</td>\n",
       "      <td>14197</td>\n",
       "      <td>14284</td>\n",
       "      <td>3</td>\n",
       "      <td>GTTATCTTACATTAAAAATTGGGAAAAATGGTGCTGTAATGGGCAG...</td>\n",
       "      <td>(AG, GT)</td>\n",
       "    </tr>\n",
       "    <tr>\n",
       "      <th>2</th>\n",
       "      <td>GPHN</td>\n",
       "      <td>85390</td>\n",
       "      <td>85439</td>\n",
       "      <td>3</td>\n",
       "      <td>GATATGCTGGCTCGTGCCTATAATCCCAGCACTGGGGAGGAAGACACAG</td>\n",
       "      <td>(AG, GT)</td>\n",
       "    </tr>\n",
       "    <tr>\n",
       "      <th>3</th>\n",
       "      <td>GPHN</td>\n",
       "      <td>89392</td>\n",
       "      <td>89472</td>\n",
       "      <td>5</td>\n",
       "      <td>GCTGCCAAAAGAAGGTGTGGTCCAGATTTAGAGATGGCCCTTCAAC...</td>\n",
       "      <td>(AG, GT)</td>\n",
       "    </tr>\n",
       "  </tbody>\n",
       "</table>\n",
       "</div>"
      ],
      "text/plain": [
       "  chrom  start    end  frequency  \\\n",
       "0  GPHN    399    463          5   \n",
       "1  GPHN  14197  14284          3   \n",
       "2  GPHN  85390  85439          3   \n",
       "3  GPHN  89392  89472          5   \n",
       "\n",
       "                                            sequence splice_sites  \n",
       "0  ATGGCGACCGAGGGAATGATCCTCACCAACCACGACCATCAAATCC...     (AC, GT)  \n",
       "1  GTTATCTTACATTAAAAATTGGGAAAAATGGTGCTGTAATGGGCAG...     (AG, GT)  \n",
       "2  GATATGCTGGCTCGTGCCTATAATCCCAGCACTGGGGAGGAAGACACAG     (AG, GT)  \n",
       "3  GCTGCCAAAAGAAGGTGTGGTCCAGATTTAGAGATGGCCCTTCAAC...     (AG, GT)  "
      ]
     },
     "execution_count": 5,
     "metadata": {},
     "output_type": "execute_result"
    }
   ],
   "source": [
    "exons.exons_df"
   ]
  },
  {
   "cell_type": "code",
   "execution_count": 6,
   "metadata": {
    "Collapsed": "false"
   },
   "outputs": [
    {
     "name": "stdout",
     "output_type": "stream",
     "text": [
      "Building a new DB, current time: 08/07/2019 15:05:34\n",
      "New DB name:   /home/khourhin/Programming/isopy/isopy/notebooks/isopy_out/test.fas\n",
      "New DB title:  isopy_out/test.fas\n",
      "Sequence type: Nucleotide\n",
      "Keep MBits: T\n",
      "Maximum file size: 1000000000B\n",
      "Adding sequences from FASTA; added 4 sequences in 0.000421047 seconds.\n"
     ]
    }
   ],
   "source": [
    "clusters = iso.TranscriptCluster(exons.exon_fas_fn, [READS_1, READS_2])"
   ]
  },
  {
   "cell_type": "markdown",
   "metadata": {
    "Collapsed": "false"
   },
   "source": [
    "Clusters are summarized in `.cluster_df`"
   ]
  },
  {
   "cell_type": "code",
   "execution_count": 7,
   "metadata": {
    "Collapsed": "false"
   },
   "outputs": [
    {
     "data": {
      "text/html": [
       "<div>\n",
       "<style scoped>\n",
       "    .dataframe tbody tr th:only-of-type {\n",
       "        vertical-align: middle;\n",
       "    }\n",
       "\n",
       "    .dataframe tbody tr th {\n",
       "        vertical-align: top;\n",
       "    }\n",
       "\n",
       "    .dataframe thead th {\n",
       "        text-align: right;\n",
       "    }\n",
       "</style>\n",
       "<table border=\"1\" class=\"dataframe\">\n",
       "  <thead>\n",
       "    <tr style=\"text-align: right;\">\n",
       "      <th></th>\n",
       "      <th>E1</th>\n",
       "      <th>E2</th>\n",
       "      <th>E3</th>\n",
       "      <th>E4</th>\n",
       "      <th>read_ids</th>\n",
       "      <th>frequency</th>\n",
       "    </tr>\n",
       "    <tr>\n",
       "      <th>transcript_id</th>\n",
       "      <th></th>\n",
       "      <th></th>\n",
       "      <th></th>\n",
       "      <th></th>\n",
       "      <th></th>\n",
       "      <th></th>\n",
       "    </tr>\n",
       "  </thead>\n",
       "  <tbody>\n",
       "    <tr>\n",
       "      <th>alternative_transcript_1</th>\n",
       "      <td>True</td>\n",
       "      <td>True</td>\n",
       "      <td>True</td>\n",
       "      <td>True</td>\n",
       "      <td>((mock_multi_fasta_1.fas, f1_transcript_1), (m...</td>\n",
       "      <td>2</td>\n",
       "    </tr>\n",
       "    <tr>\n",
       "      <th>alternative_transcript_2</th>\n",
       "      <td>True</td>\n",
       "      <td>False</td>\n",
       "      <td>False</td>\n",
       "      <td>True</td>\n",
       "      <td>((mock_multi_fasta_2.fas, f2_transcript_4),)</td>\n",
       "      <td>1</td>\n",
       "    </tr>\n",
       "    <tr>\n",
       "      <th>alternative_transcript_3</th>\n",
       "      <td>True</td>\n",
       "      <td>False</td>\n",
       "      <td>True</td>\n",
       "      <td>True</td>\n",
       "      <td>((mock_multi_fasta_2.fas, f2_transcript_3),)</td>\n",
       "      <td>1</td>\n",
       "    </tr>\n",
       "    <tr>\n",
       "      <th>alternative_transcript_4</th>\n",
       "      <td>True</td>\n",
       "      <td>True</td>\n",
       "      <td>False</td>\n",
       "      <td>True</td>\n",
       "      <td>((mock_multi_fasta_1.fas, f1_transcript_2),)</td>\n",
       "      <td>1</td>\n",
       "    </tr>\n",
       "  </tbody>\n",
       "</table>\n",
       "</div>"
      ],
      "text/plain": [
       "                            E1     E2     E3    E4  \\\n",
       "transcript_id                                        \n",
       "alternative_transcript_1  True   True   True  True   \n",
       "alternative_transcript_2  True  False  False  True   \n",
       "alternative_transcript_3  True  False   True  True   \n",
       "alternative_transcript_4  True   True  False  True   \n",
       "\n",
       "                                                                   read_ids  \\\n",
       "transcript_id                                                                 \n",
       "alternative_transcript_1  ((mock_multi_fasta_1.fas, f1_transcript_1), (m...   \n",
       "alternative_transcript_2       ((mock_multi_fasta_2.fas, f2_transcript_4),)   \n",
       "alternative_transcript_3       ((mock_multi_fasta_2.fas, f2_transcript_3),)   \n",
       "alternative_transcript_4       ((mock_multi_fasta_1.fas, f1_transcript_2),)   \n",
       "\n",
       "                          frequency  \n",
       "transcript_id                        \n",
       "alternative_transcript_1          2  \n",
       "alternative_transcript_2          1  \n",
       "alternative_transcript_3          1  \n",
       "alternative_transcript_4          1  "
      ]
     },
     "execution_count": 7,
     "metadata": {},
     "output_type": "execute_result"
    }
   ],
   "source": [
    "clusters.cluster_df"
   ]
  },
  {
   "cell_type": "markdown",
   "metadata": {
    "Collapsed": "false"
   },
   "source": [
    "Exon composition can be found in `.exon_composition_df`"
   ]
  },
  {
   "cell_type": "code",
   "execution_count": 8,
   "metadata": {
    "Collapsed": "false"
   },
   "outputs": [
    {
     "data": {
      "text/html": [
       "<div>\n",
       "<style scoped>\n",
       "    .dataframe tbody tr th:only-of-type {\n",
       "        vertical-align: middle;\n",
       "    }\n",
       "\n",
       "    .dataframe tbody tr th {\n",
       "        vertical-align: top;\n",
       "    }\n",
       "\n",
       "    .dataframe thead th {\n",
       "        text-align: right;\n",
       "    }\n",
       "</style>\n",
       "<table border=\"1\" class=\"dataframe\">\n",
       "  <thead>\n",
       "    <tr style=\"text-align: right;\">\n",
       "      <th></th>\n",
       "      <th>subject</th>\n",
       "      <th>E1</th>\n",
       "      <th>E2</th>\n",
       "      <th>E3</th>\n",
       "      <th>E4</th>\n",
       "    </tr>\n",
       "    <tr>\n",
       "      <th>library</th>\n",
       "      <th>query</th>\n",
       "      <th></th>\n",
       "      <th></th>\n",
       "      <th></th>\n",
       "      <th></th>\n",
       "    </tr>\n",
       "  </thead>\n",
       "  <tbody>\n",
       "    <tr>\n",
       "      <th rowspan=\"2\" valign=\"top\">mock_multi_fasta_1.fas</th>\n",
       "      <th>f1_transcript_1</th>\n",
       "      <td>True</td>\n",
       "      <td>True</td>\n",
       "      <td>True</td>\n",
       "      <td>True</td>\n",
       "    </tr>\n",
       "    <tr>\n",
       "      <th>f1_transcript_2</th>\n",
       "      <td>True</td>\n",
       "      <td>True</td>\n",
       "      <td>False</td>\n",
       "      <td>True</td>\n",
       "    </tr>\n",
       "    <tr>\n",
       "      <th rowspan=\"3\" valign=\"top\">mock_multi_fasta_2.fas</th>\n",
       "      <th>f2_transcript_1</th>\n",
       "      <td>True</td>\n",
       "      <td>True</td>\n",
       "      <td>True</td>\n",
       "      <td>True</td>\n",
       "    </tr>\n",
       "    <tr>\n",
       "      <th>f2_transcript_3</th>\n",
       "      <td>True</td>\n",
       "      <td>False</td>\n",
       "      <td>True</td>\n",
       "      <td>True</td>\n",
       "    </tr>\n",
       "    <tr>\n",
       "      <th>f2_transcript_4</th>\n",
       "      <td>True</td>\n",
       "      <td>False</td>\n",
       "      <td>False</td>\n",
       "      <td>True</td>\n",
       "    </tr>\n",
       "  </tbody>\n",
       "</table>\n",
       "</div>"
      ],
      "text/plain": [
       "subject                                   E1     E2     E3    E4\n",
       "library                query                                    \n",
       "mock_multi_fasta_1.fas f1_transcript_1  True   True   True  True\n",
       "                       f1_transcript_2  True   True  False  True\n",
       "mock_multi_fasta_2.fas f2_transcript_1  True   True   True  True\n",
       "                       f2_transcript_3  True  False   True  True\n",
       "                       f2_transcript_4  True  False  False  True"
      ]
     },
     "execution_count": 8,
     "metadata": {},
     "output_type": "execute_result"
    }
   ],
   "source": [
    "clusters.exon_composition_df"
   ]
  },
  {
   "cell_type": "markdown",
   "metadata": {
    "Collapsed": "false"
   },
   "source": [
    "Junction composition can be found in `.junction_composition_df`"
   ]
  },
  {
   "cell_type": "code",
   "execution_count": 9,
   "metadata": {
    "Collapsed": "false"
   },
   "outputs": [
    {
     "data": {
      "text/html": [
       "<div>\n",
       "<style scoped>\n",
       "    .dataframe tbody tr th:only-of-type {\n",
       "        vertical-align: middle;\n",
       "    }\n",
       "\n",
       "    .dataframe tbody tr th {\n",
       "        vertical-align: top;\n",
       "    }\n",
       "\n",
       "    .dataframe thead th {\n",
       "        text-align: right;\n",
       "    }\n",
       "</style>\n",
       "<table border=\"1\" class=\"dataframe\">\n",
       "  <thead>\n",
       "    <tr style=\"text-align: right;\">\n",
       "      <th></th>\n",
       "      <th>E1_E2</th>\n",
       "      <th>E1_E3</th>\n",
       "      <th>E1_E4</th>\n",
       "      <th>E2_E3</th>\n",
       "      <th>E2_E4</th>\n",
       "      <th>E3_E4</th>\n",
       "    </tr>\n",
       "    <tr>\n",
       "      <th>transcript_id</th>\n",
       "      <th></th>\n",
       "      <th></th>\n",
       "      <th></th>\n",
       "      <th></th>\n",
       "      <th></th>\n",
       "      <th></th>\n",
       "    </tr>\n",
       "  </thead>\n",
       "  <tbody>\n",
       "    <tr>\n",
       "      <th>alternative_transcript_1</th>\n",
       "      <td>True</td>\n",
       "      <td>False</td>\n",
       "      <td>False</td>\n",
       "      <td>True</td>\n",
       "      <td>False</td>\n",
       "      <td>True</td>\n",
       "    </tr>\n",
       "    <tr>\n",
       "      <th>alternative_transcript_2</th>\n",
       "      <td>False</td>\n",
       "      <td>False</td>\n",
       "      <td>True</td>\n",
       "      <td>False</td>\n",
       "      <td>False</td>\n",
       "      <td>False</td>\n",
       "    </tr>\n",
       "    <tr>\n",
       "      <th>alternative_transcript_3</th>\n",
       "      <td>False</td>\n",
       "      <td>True</td>\n",
       "      <td>False</td>\n",
       "      <td>False</td>\n",
       "      <td>False</td>\n",
       "      <td>True</td>\n",
       "    </tr>\n",
       "    <tr>\n",
       "      <th>alternative_transcript_4</th>\n",
       "      <td>True</td>\n",
       "      <td>False</td>\n",
       "      <td>False</td>\n",
       "      <td>False</td>\n",
       "      <td>True</td>\n",
       "      <td>False</td>\n",
       "    </tr>\n",
       "  </tbody>\n",
       "</table>\n",
       "</div>"
      ],
      "text/plain": [
       "0                         E1_E2  E1_E3  E1_E4  E2_E3  E2_E4  E3_E4\n",
       "transcript_id                                                     \n",
       "alternative_transcript_1   True  False  False   True  False   True\n",
       "alternative_transcript_2  False  False   True  False  False  False\n",
       "alternative_transcript_3  False   True  False  False  False   True\n",
       "alternative_transcript_4   True  False  False  False   True  False"
      ]
     },
     "execution_count": 9,
     "metadata": {},
     "output_type": "execute_result"
    }
   ],
   "source": [
    "clusters.junction_composition_df"
   ]
  },
  {
   "cell_type": "code",
   "execution_count": 10,
   "metadata": {
    "Collapsed": "false"
   },
   "outputs": [
    {
     "data": {
      "text/plain": [
       "(<Bed object: exons>, <Bed object: junctions>, 'test.fas')"
      ]
     },
     "execution_count": 10,
     "metadata": {},
     "output_type": "execute_result"
    }
   ],
   "source": [
    "iso.build_fasta_bed_from_exon_composition(EXONS_FAS, clusters.cluster_df, 'test.fas', 'exons.bed', 'junctions.bed')"
   ]
  }
 ],
 "metadata": {
  "kernelspec": {
   "display_name": "Python [conda env:isopy]",
   "language": "python",
   "name": "conda-env-isopy-py"
  },
  "language_info": {
   "codemirror_mode": {
    "name": "ipython",
    "version": 3
   },
   "file_extension": ".py",
   "mimetype": "text/x-python",
   "name": "python",
   "nbconvert_exporter": "python",
   "pygments_lexer": "ipython3",
   "version": "3.6.7"
  }
 },
 "nbformat": 4,
 "nbformat_minor": 4
}
